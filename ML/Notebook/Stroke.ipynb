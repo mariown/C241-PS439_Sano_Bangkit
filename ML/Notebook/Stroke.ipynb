{
  "nbformat": 4,
  "nbformat_minor": 0,
  "metadata": {
    "colab": {
      "provenance": []
    },
    "kernelspec": {
      "name": "python3",
      "display_name": "Python 3"
    },
    "language_info": {
      "name": "python"
    }
  },
  "cells": [
    {
      "cell_type": "code",
      "execution_count": null,
      "metadata": {
        "id": "ZNdVZVErYTUe"
      },
      "outputs": [],
      "source": [
        "import numpy as np\n",
        "import pandas as pd\n",
        "from scipy import stats\n",
        "import matplotlib.pyplot as plt\n",
        "import seaborn as sns\n",
        "import matplotlib.cm as cm\n",
        "import tensorflow as tf\n",
        "from sklearn.model_selection import train_test_split\n",
        "from sklearn.preprocessing import LabelEncoder\n",
        "from sklearn.metrics import f1_score, precision_score, recall_score\n",
        "from sklearn.metrics import log_loss, precision_recall_curve\n",
        "from sklearn.model_selection import train_test_split\n",
        "from sklearn.datasets import make_classification\n",
        "from keras.optimizers import SGD, Adam, RMSprop, Nadam\n",
        "from tensorflow.keras.models import Sequential\n",
        "from tensorflow.keras.layers import Dense\n",
        "from sklearn.metrics import confusion_matrix, classification_report\n"
      ]
    },
    {
      "cell_type": "code",
      "source": [
        "stroke = pd.read_csv(\"/content/stroke_data_new (1).csv\")"
      ],
      "metadata": {
        "id": "tMFfb6r1yvch"
      },
      "execution_count": null,
      "outputs": []
    },
    {
      "cell_type": "code",
      "source": [
        "stroke"
      ],
      "metadata": {
        "colab": {
          "base_uri": "https://localhost:8080/",
          "height": 424
        },
        "id": "LnUi3FtjEnhq",
        "outputId": "9bdc6635-bcad-4c60-b258-5e6d3952114a"
      },
      "execution_count": null,
      "outputs": [
        {
          "output_type": "execute_result",
          "data": {
            "text/plain": [
              "       sex   age  hypertension  heart_disease  ever_married  work_type  \\\n",
              "0      1.0  63.0             0              1             1          4   \n",
              "1      1.0  42.0             0              1             1          4   \n",
              "2      0.0  61.0             0              0             1          4   \n",
              "3      1.0  41.0             1              0             1          3   \n",
              "4      1.0  85.0             0              0             1          4   \n",
              "...    ...   ...           ...            ...           ...        ...   \n",
              "40905  1.0  38.0             0              0             0          4   \n",
              "40906  0.0  53.0             0              0             1          4   \n",
              "40907  1.0  32.0             0              0             1          2   \n",
              "40908  1.0  42.0             0              0             1          3   \n",
              "40909  1.0  35.0             0              0             0          4   \n",
              "\n",
              "       Residence_type  avg_glucose_level   bmi  smoking_status  stroke  \n",
              "0                   1             228.69  36.6               1       1  \n",
              "1                   0             105.92  32.5               0       1  \n",
              "2                   1             171.23  34.4               1       1  \n",
              "3                   0             174.12  24.0               0       1  \n",
              "4                   1             186.21  29.0               1       1  \n",
              "...               ...                ...   ...             ...     ...  \n",
              "40905               1             120.94  29.7               1       0  \n",
              "40906               0              77.66  40.8               0       0  \n",
              "40907               0             231.95  33.2               0       0  \n",
              "40908               0             216.38  34.5               0       0  \n",
              "40909               0              95.01  28.0               0       0  \n",
              "\n",
              "[40910 rows x 11 columns]"
            ],
            "text/html": [
              "\n",
              "  <div id=\"df-797c15ee-73b7-4b18-8d98-56f8d5c12416\" class=\"colab-df-container\">\n",
              "    <div>\n",
              "<style scoped>\n",
              "    .dataframe tbody tr th:only-of-type {\n",
              "        vertical-align: middle;\n",
              "    }\n",
              "\n",
              "    .dataframe tbody tr th {\n",
              "        vertical-align: top;\n",
              "    }\n",
              "\n",
              "    .dataframe thead th {\n",
              "        text-align: right;\n",
              "    }\n",
              "</style>\n",
              "<table border=\"1\" class=\"dataframe\">\n",
              "  <thead>\n",
              "    <tr style=\"text-align: right;\">\n",
              "      <th></th>\n",
              "      <th>sex</th>\n",
              "      <th>age</th>\n",
              "      <th>hypertension</th>\n",
              "      <th>heart_disease</th>\n",
              "      <th>ever_married</th>\n",
              "      <th>work_type</th>\n",
              "      <th>Residence_type</th>\n",
              "      <th>avg_glucose_level</th>\n",
              "      <th>bmi</th>\n",
              "      <th>smoking_status</th>\n",
              "      <th>stroke</th>\n",
              "    </tr>\n",
              "  </thead>\n",
              "  <tbody>\n",
              "    <tr>\n",
              "      <th>0</th>\n",
              "      <td>1.0</td>\n",
              "      <td>63.0</td>\n",
              "      <td>0</td>\n",
              "      <td>1</td>\n",
              "      <td>1</td>\n",
              "      <td>4</td>\n",
              "      <td>1</td>\n",
              "      <td>228.69</td>\n",
              "      <td>36.6</td>\n",
              "      <td>1</td>\n",
              "      <td>1</td>\n",
              "    </tr>\n",
              "    <tr>\n",
              "      <th>1</th>\n",
              "      <td>1.0</td>\n",
              "      <td>42.0</td>\n",
              "      <td>0</td>\n",
              "      <td>1</td>\n",
              "      <td>1</td>\n",
              "      <td>4</td>\n",
              "      <td>0</td>\n",
              "      <td>105.92</td>\n",
              "      <td>32.5</td>\n",
              "      <td>0</td>\n",
              "      <td>1</td>\n",
              "    </tr>\n",
              "    <tr>\n",
              "      <th>2</th>\n",
              "      <td>0.0</td>\n",
              "      <td>61.0</td>\n",
              "      <td>0</td>\n",
              "      <td>0</td>\n",
              "      <td>1</td>\n",
              "      <td>4</td>\n",
              "      <td>1</td>\n",
              "      <td>171.23</td>\n",
              "      <td>34.4</td>\n",
              "      <td>1</td>\n",
              "      <td>1</td>\n",
              "    </tr>\n",
              "    <tr>\n",
              "      <th>3</th>\n",
              "      <td>1.0</td>\n",
              "      <td>41.0</td>\n",
              "      <td>1</td>\n",
              "      <td>0</td>\n",
              "      <td>1</td>\n",
              "      <td>3</td>\n",
              "      <td>0</td>\n",
              "      <td>174.12</td>\n",
              "      <td>24.0</td>\n",
              "      <td>0</td>\n",
              "      <td>1</td>\n",
              "    </tr>\n",
              "    <tr>\n",
              "      <th>4</th>\n",
              "      <td>1.0</td>\n",
              "      <td>85.0</td>\n",
              "      <td>0</td>\n",
              "      <td>0</td>\n",
              "      <td>1</td>\n",
              "      <td>4</td>\n",
              "      <td>1</td>\n",
              "      <td>186.21</td>\n",
              "      <td>29.0</td>\n",
              "      <td>1</td>\n",
              "      <td>1</td>\n",
              "    </tr>\n",
              "    <tr>\n",
              "      <th>...</th>\n",
              "      <td>...</td>\n",
              "      <td>...</td>\n",
              "      <td>...</td>\n",
              "      <td>...</td>\n",
              "      <td>...</td>\n",
              "      <td>...</td>\n",
              "      <td>...</td>\n",
              "      <td>...</td>\n",
              "      <td>...</td>\n",
              "      <td>...</td>\n",
              "      <td>...</td>\n",
              "    </tr>\n",
              "    <tr>\n",
              "      <th>40905</th>\n",
              "      <td>1.0</td>\n",
              "      <td>38.0</td>\n",
              "      <td>0</td>\n",
              "      <td>0</td>\n",
              "      <td>0</td>\n",
              "      <td>4</td>\n",
              "      <td>1</td>\n",
              "      <td>120.94</td>\n",
              "      <td>29.7</td>\n",
              "      <td>1</td>\n",
              "      <td>0</td>\n",
              "    </tr>\n",
              "    <tr>\n",
              "      <th>40906</th>\n",
              "      <td>0.0</td>\n",
              "      <td>53.0</td>\n",
              "      <td>0</td>\n",
              "      <td>0</td>\n",
              "      <td>1</td>\n",
              "      <td>4</td>\n",
              "      <td>0</td>\n",
              "      <td>77.66</td>\n",
              "      <td>40.8</td>\n",
              "      <td>0</td>\n",
              "      <td>0</td>\n",
              "    </tr>\n",
              "    <tr>\n",
              "      <th>40907</th>\n",
              "      <td>1.0</td>\n",
              "      <td>32.0</td>\n",
              "      <td>0</td>\n",
              "      <td>0</td>\n",
              "      <td>1</td>\n",
              "      <td>2</td>\n",
              "      <td>0</td>\n",
              "      <td>231.95</td>\n",
              "      <td>33.2</td>\n",
              "      <td>0</td>\n",
              "      <td>0</td>\n",
              "    </tr>\n",
              "    <tr>\n",
              "      <th>40908</th>\n",
              "      <td>1.0</td>\n",
              "      <td>42.0</td>\n",
              "      <td>0</td>\n",
              "      <td>0</td>\n",
              "      <td>1</td>\n",
              "      <td>3</td>\n",
              "      <td>0</td>\n",
              "      <td>216.38</td>\n",
              "      <td>34.5</td>\n",
              "      <td>0</td>\n",
              "      <td>0</td>\n",
              "    </tr>\n",
              "    <tr>\n",
              "      <th>40909</th>\n",
              "      <td>1.0</td>\n",
              "      <td>35.0</td>\n",
              "      <td>0</td>\n",
              "      <td>0</td>\n",
              "      <td>0</td>\n",
              "      <td>4</td>\n",
              "      <td>0</td>\n",
              "      <td>95.01</td>\n",
              "      <td>28.0</td>\n",
              "      <td>0</td>\n",
              "      <td>0</td>\n",
              "    </tr>\n",
              "  </tbody>\n",
              "</table>\n",
              "<p>40910 rows × 11 columns</p>\n",
              "</div>\n",
              "    <div class=\"colab-df-buttons\">\n",
              "\n",
              "  <div class=\"colab-df-container\">\n",
              "    <button class=\"colab-df-convert\" onclick=\"convertToInteractive('df-797c15ee-73b7-4b18-8d98-56f8d5c12416')\"\n",
              "            title=\"Convert this dataframe to an interactive table.\"\n",
              "            style=\"display:none;\">\n",
              "\n",
              "  <svg xmlns=\"http://www.w3.org/2000/svg\" height=\"24px\" viewBox=\"0 -960 960 960\">\n",
              "    <path d=\"M120-120v-720h720v720H120Zm60-500h600v-160H180v160Zm220 220h160v-160H400v160Zm0 220h160v-160H400v160ZM180-400h160v-160H180v160Zm440 0h160v-160H620v160ZM180-180h160v-160H180v160Zm440 0h160v-160H620v160Z\"/>\n",
              "  </svg>\n",
              "    </button>\n",
              "\n",
              "  <style>\n",
              "    .colab-df-container {\n",
              "      display:flex;\n",
              "      gap: 12px;\n",
              "    }\n",
              "\n",
              "    .colab-df-convert {\n",
              "      background-color: #E8F0FE;\n",
              "      border: none;\n",
              "      border-radius: 50%;\n",
              "      cursor: pointer;\n",
              "      display: none;\n",
              "      fill: #1967D2;\n",
              "      height: 32px;\n",
              "      padding: 0 0 0 0;\n",
              "      width: 32px;\n",
              "    }\n",
              "\n",
              "    .colab-df-convert:hover {\n",
              "      background-color: #E2EBFA;\n",
              "      box-shadow: 0px 1px 2px rgba(60, 64, 67, 0.3), 0px 1px 3px 1px rgba(60, 64, 67, 0.15);\n",
              "      fill: #174EA6;\n",
              "    }\n",
              "\n",
              "    .colab-df-buttons div {\n",
              "      margin-bottom: 4px;\n",
              "    }\n",
              "\n",
              "    [theme=dark] .colab-df-convert {\n",
              "      background-color: #3B4455;\n",
              "      fill: #D2E3FC;\n",
              "    }\n",
              "\n",
              "    [theme=dark] .colab-df-convert:hover {\n",
              "      background-color: #434B5C;\n",
              "      box-shadow: 0px 1px 3px 1px rgba(0, 0, 0, 0.15);\n",
              "      filter: drop-shadow(0px 1px 2px rgba(0, 0, 0, 0.3));\n",
              "      fill: #FFFFFF;\n",
              "    }\n",
              "  </style>\n",
              "\n",
              "    <script>\n",
              "      const buttonEl =\n",
              "        document.querySelector('#df-797c15ee-73b7-4b18-8d98-56f8d5c12416 button.colab-df-convert');\n",
              "      buttonEl.style.display =\n",
              "        google.colab.kernel.accessAllowed ? 'block' : 'none';\n",
              "\n",
              "      async function convertToInteractive(key) {\n",
              "        const element = document.querySelector('#df-797c15ee-73b7-4b18-8d98-56f8d5c12416');\n",
              "        const dataTable =\n",
              "          await google.colab.kernel.invokeFunction('convertToInteractive',\n",
              "                                                    [key], {});\n",
              "        if (!dataTable) return;\n",
              "\n",
              "        const docLinkHtml = 'Like what you see? Visit the ' +\n",
              "          '<a target=\"_blank\" href=https://colab.research.google.com/notebooks/data_table.ipynb>data table notebook</a>'\n",
              "          + ' to learn more about interactive tables.';\n",
              "        element.innerHTML = '';\n",
              "        dataTable['output_type'] = 'display_data';\n",
              "        await google.colab.output.renderOutput(dataTable, element);\n",
              "        const docLink = document.createElement('div');\n",
              "        docLink.innerHTML = docLinkHtml;\n",
              "        element.appendChild(docLink);\n",
              "      }\n",
              "    </script>\n",
              "  </div>\n",
              "\n",
              "\n",
              "<div id=\"df-a466a636-d88a-4397-945f-c75cd8fce82f\">\n",
              "  <button class=\"colab-df-quickchart\" onclick=\"quickchart('df-a466a636-d88a-4397-945f-c75cd8fce82f')\"\n",
              "            title=\"Suggest charts\"\n",
              "            style=\"display:none;\">\n",
              "\n",
              "<svg xmlns=\"http://www.w3.org/2000/svg\" height=\"24px\"viewBox=\"0 0 24 24\"\n",
              "     width=\"24px\">\n",
              "    <g>\n",
              "        <path d=\"M19 3H5c-1.1 0-2 .9-2 2v14c0 1.1.9 2 2 2h14c1.1 0 2-.9 2-2V5c0-1.1-.9-2-2-2zM9 17H7v-7h2v7zm4 0h-2V7h2v10zm4 0h-2v-4h2v4z\"/>\n",
              "    </g>\n",
              "</svg>\n",
              "  </button>\n",
              "\n",
              "<style>\n",
              "  .colab-df-quickchart {\n",
              "      --bg-color: #E8F0FE;\n",
              "      --fill-color: #1967D2;\n",
              "      --hover-bg-color: #E2EBFA;\n",
              "      --hover-fill-color: #174EA6;\n",
              "      --disabled-fill-color: #AAA;\n",
              "      --disabled-bg-color: #DDD;\n",
              "  }\n",
              "\n",
              "  [theme=dark] .colab-df-quickchart {\n",
              "      --bg-color: #3B4455;\n",
              "      --fill-color: #D2E3FC;\n",
              "      --hover-bg-color: #434B5C;\n",
              "      --hover-fill-color: #FFFFFF;\n",
              "      --disabled-bg-color: #3B4455;\n",
              "      --disabled-fill-color: #666;\n",
              "  }\n",
              "\n",
              "  .colab-df-quickchart {\n",
              "    background-color: var(--bg-color);\n",
              "    border: none;\n",
              "    border-radius: 50%;\n",
              "    cursor: pointer;\n",
              "    display: none;\n",
              "    fill: var(--fill-color);\n",
              "    height: 32px;\n",
              "    padding: 0;\n",
              "    width: 32px;\n",
              "  }\n",
              "\n",
              "  .colab-df-quickchart:hover {\n",
              "    background-color: var(--hover-bg-color);\n",
              "    box-shadow: 0 1px 2px rgba(60, 64, 67, 0.3), 0 1px 3px 1px rgba(60, 64, 67, 0.15);\n",
              "    fill: var(--button-hover-fill-color);\n",
              "  }\n",
              "\n",
              "  .colab-df-quickchart-complete:disabled,\n",
              "  .colab-df-quickchart-complete:disabled:hover {\n",
              "    background-color: var(--disabled-bg-color);\n",
              "    fill: var(--disabled-fill-color);\n",
              "    box-shadow: none;\n",
              "  }\n",
              "\n",
              "  .colab-df-spinner {\n",
              "    border: 2px solid var(--fill-color);\n",
              "    border-color: transparent;\n",
              "    border-bottom-color: var(--fill-color);\n",
              "    animation:\n",
              "      spin 1s steps(1) infinite;\n",
              "  }\n",
              "\n",
              "  @keyframes spin {\n",
              "    0% {\n",
              "      border-color: transparent;\n",
              "      border-bottom-color: var(--fill-color);\n",
              "      border-left-color: var(--fill-color);\n",
              "    }\n",
              "    20% {\n",
              "      border-color: transparent;\n",
              "      border-left-color: var(--fill-color);\n",
              "      border-top-color: var(--fill-color);\n",
              "    }\n",
              "    30% {\n",
              "      border-color: transparent;\n",
              "      border-left-color: var(--fill-color);\n",
              "      border-top-color: var(--fill-color);\n",
              "      border-right-color: var(--fill-color);\n",
              "    }\n",
              "    40% {\n",
              "      border-color: transparent;\n",
              "      border-right-color: var(--fill-color);\n",
              "      border-top-color: var(--fill-color);\n",
              "    }\n",
              "    60% {\n",
              "      border-color: transparent;\n",
              "      border-right-color: var(--fill-color);\n",
              "    }\n",
              "    80% {\n",
              "      border-color: transparent;\n",
              "      border-right-color: var(--fill-color);\n",
              "      border-bottom-color: var(--fill-color);\n",
              "    }\n",
              "    90% {\n",
              "      border-color: transparent;\n",
              "      border-bottom-color: var(--fill-color);\n",
              "    }\n",
              "  }\n",
              "</style>\n",
              "\n",
              "  <script>\n",
              "    async function quickchart(key) {\n",
              "      const quickchartButtonEl =\n",
              "        document.querySelector('#' + key + ' button');\n",
              "      quickchartButtonEl.disabled = true;  // To prevent multiple clicks.\n",
              "      quickchartButtonEl.classList.add('colab-df-spinner');\n",
              "      try {\n",
              "        const charts = await google.colab.kernel.invokeFunction(\n",
              "            'suggestCharts', [key], {});\n",
              "      } catch (error) {\n",
              "        console.error('Error during call to suggestCharts:', error);\n",
              "      }\n",
              "      quickchartButtonEl.classList.remove('colab-df-spinner');\n",
              "      quickchartButtonEl.classList.add('colab-df-quickchart-complete');\n",
              "    }\n",
              "    (() => {\n",
              "      let quickchartButtonEl =\n",
              "        document.querySelector('#df-a466a636-d88a-4397-945f-c75cd8fce82f button');\n",
              "      quickchartButtonEl.style.display =\n",
              "        google.colab.kernel.accessAllowed ? 'block' : 'none';\n",
              "    })();\n",
              "  </script>\n",
              "</div>\n",
              "    </div>\n",
              "  </div>\n"
            ],
            "application/vnd.google.colaboratory.intrinsic+json": {
              "type": "dataframe",
              "variable_name": "stroke",
              "summary": "{\n  \"name\": \"stroke\",\n  \"rows\": 40910,\n  \"fields\": [\n    {\n      \"column\": \"sex\",\n      \"properties\": {\n        \"dtype\": \"number\",\n        \"std\": 0.4969539446755928,\n        \"min\": 0.0,\n        \"max\": 1.0,\n        \"num_unique_values\": 2,\n        \"samples\": [\n          0.0,\n          1.0\n        ],\n        \"semantic_type\": \"\",\n        \"description\": \"\"\n      }\n    },\n    {\n      \"column\": \"age\",\n      \"properties\": {\n        \"dtype\": \"number\",\n        \"std\": 21.62396928380311,\n        \"min\": -9.0,\n        \"max\": 103.0,\n        \"num_unique_values\": 111,\n        \"samples\": [\n          92.0,\n          26.0\n        ],\n        \"semantic_type\": \"\",\n        \"description\": \"\"\n      }\n    },\n    {\n      \"column\": \"hypertension\",\n      \"properties\": {\n        \"dtype\": \"number\",\n        \"std\": 0,\n        \"min\": 0,\n        \"max\": 1,\n        \"num_unique_values\": 2,\n        \"samples\": [\n          1,\n          0\n        ],\n        \"semantic_type\": \"\",\n        \"description\": \"\"\n      }\n    },\n    {\n      \"column\": \"heart_disease\",\n      \"properties\": {\n        \"dtype\": \"number\",\n        \"std\": 0,\n        \"min\": 0,\n        \"max\": 1,\n        \"num_unique_values\": 2,\n        \"samples\": [\n          0,\n          1\n        ],\n        \"semantic_type\": \"\",\n        \"description\": \"\"\n      }\n    },\n    {\n      \"column\": \"ever_married\",\n      \"properties\": {\n        \"dtype\": \"number\",\n        \"std\": 0,\n        \"min\": 0,\n        \"max\": 1,\n        \"num_unique_values\": 2,\n        \"samples\": [\n          0,\n          1\n        ],\n        \"semantic_type\": \"\",\n        \"description\": \"\"\n      }\n    },\n    {\n      \"column\": \"work_type\",\n      \"properties\": {\n        \"dtype\": \"number\",\n        \"std\": 0,\n        \"min\": 0,\n        \"max\": 4,\n        \"num_unique_values\": 5,\n        \"samples\": [\n          3,\n          0\n        ],\n        \"semantic_type\": \"\",\n        \"description\": \"\"\n      }\n    },\n    {\n      \"column\": \"Residence_type\",\n      \"properties\": {\n        \"dtype\": \"number\",\n        \"std\": 0,\n        \"min\": 0,\n        \"max\": 1,\n        \"num_unique_values\": 2,\n        \"samples\": [\n          0,\n          1\n        ],\n        \"semantic_type\": \"\",\n        \"description\": \"\"\n      }\n    },\n    {\n      \"column\": \"avg_glucose_level\",\n      \"properties\": {\n        \"dtype\": \"number\",\n        \"std\": 57.561531200354096,\n        \"min\": 55.12,\n        \"max\": 271.74,\n        \"num_unique_values\": 2903,\n        \"samples\": [\n          200.62,\n          68.98\n        ],\n        \"semantic_type\": \"\",\n        \"description\": \"\"\n      }\n    },\n    {\n      \"column\": \"bmi\",\n      \"properties\": {\n        \"dtype\": \"number\",\n        \"std\": 6.8350722960865316,\n        \"min\": 11.5,\n        \"max\": 92.0,\n        \"num_unique_values\": 370,\n        \"samples\": [\n          51.9,\n          38.6\n        ],\n        \"semantic_type\": \"\",\n        \"description\": \"\"\n      }\n    },\n    {\n      \"column\": \"smoking_status\",\n      \"properties\": {\n        \"dtype\": \"number\",\n        \"std\": 0,\n        \"min\": 0,\n        \"max\": 1,\n        \"num_unique_values\": 2,\n        \"samples\": [\n          0,\n          1\n        ],\n        \"semantic_type\": \"\",\n        \"description\": \"\"\n      }\n    },\n    {\n      \"column\": \"stroke\",\n      \"properties\": {\n        \"dtype\": \"number\",\n        \"std\": 0,\n        \"min\": 0,\n        \"max\": 1,\n        \"num_unique_values\": 2,\n        \"samples\": [\n          0,\n          1\n        ],\n        \"semantic_type\": \"\",\n        \"description\": \"\"\n      }\n    }\n  ]\n}"
            }
          },
          "metadata": {},
          "execution_count": 3
        }
      ]
    },
    {
      "cell_type": "code",
      "source": [
        "stroke['stroke'].value_counts()"
      ],
      "metadata": {
        "colab": {
          "base_uri": "https://localhost:8080/"
        },
        "id": "KTWOo4fBC-xF",
        "outputId": "dbd4bfa3-3908-43ac-d3d7-4a14db652dc2"
      },
      "execution_count": null,
      "outputs": [
        {
          "output_type": "execute_result",
          "data": {
            "text/plain": [
              "stroke\n",
              "1    20460\n",
              "0    20450\n",
              "Name: count, dtype: int64"
            ]
          },
          "metadata": {},
          "execution_count": 4
        }
      ]
    },
    {
      "cell_type": "code",
      "source": [
        "stroke['work_type'].value_counts()"
      ],
      "metadata": {
        "colab": {
          "base_uri": "https://localhost:8080/"
        },
        "id": "py4XdBh--2jT",
        "outputId": "ec7fc53e-47fb-4a7e-cf79-98d86813b99c"
      },
      "execution_count": null,
      "outputs": [
        {
          "output_type": "execute_result",
          "data": {
            "text/plain": [
              "work_type\n",
              "4    25570\n",
              "3     9236\n",
              "2     5588\n",
              "1      431\n",
              "0       85\n",
              "Name: count, dtype: int64"
            ]
          },
          "metadata": {},
          "execution_count": 5
        }
      ]
    },
    {
      "cell_type": "code",
      "source": [
        "stroke['Residence_type'].value_counts()"
      ],
      "metadata": {
        "colab": {
          "base_uri": "https://localhost:8080/"
        },
        "id": "sDOTYKqA-_Le",
        "outputId": "e96c5682-e3fa-4712-8796-becc58129443"
      },
      "execution_count": null,
      "outputs": [
        {
          "output_type": "execute_result",
          "data": {
            "text/plain": [
              "Residence_type\n",
              "1    21064\n",
              "0    19846\n",
              "Name: count, dtype: int64"
            ]
          },
          "metadata": {},
          "execution_count": 6
        }
      ]
    },
    {
      "cell_type": "code",
      "source": [
        "stroke['smoking_status'].value_counts()"
      ],
      "metadata": {
        "colab": {
          "base_uri": "https://localhost:8080/"
        },
        "id": "OxeFvQfx_Dec",
        "outputId": "31d2d6b5-2c9c-412f-fa17-a9eb951fdf89"
      },
      "execution_count": null,
      "outputs": [
        {
          "output_type": "execute_result",
          "data": {
            "text/plain": [
              "smoking_status\n",
              "0    20921\n",
              "1    19989\n",
              "Name: count, dtype: int64"
            ]
          },
          "metadata": {},
          "execution_count": 7
        }
      ]
    },
    {
      "cell_type": "code",
      "source": [
        "df = stroke.copy()"
      ],
      "metadata": {
        "id": "lrwhs-m6r4I9"
      },
      "execution_count": null,
      "outputs": []
    },
    {
      "cell_type": "code",
      "source": [
        "df.info()"
      ],
      "metadata": {
        "colab": {
          "base_uri": "https://localhost:8080/"
        },
        "id": "QrxJUj9faru3",
        "outputId": "62cc1071-f5dd-4524-cdf1-b87e027ada68"
      },
      "execution_count": null,
      "outputs": [
        {
          "output_type": "stream",
          "name": "stdout",
          "text": [
            "<class 'pandas.core.frame.DataFrame'>\n",
            "RangeIndex: 40910 entries, 0 to 40909\n",
            "Data columns (total 11 columns):\n",
            " #   Column             Non-Null Count  Dtype  \n",
            "---  ------             --------------  -----  \n",
            " 0   sex                40907 non-null  float64\n",
            " 1   age                40910 non-null  float64\n",
            " 2   hypertension       40910 non-null  int64  \n",
            " 3   heart_disease      40910 non-null  int64  \n",
            " 4   ever_married       40910 non-null  int64  \n",
            " 5   work_type          40910 non-null  int64  \n",
            " 6   Residence_type     40910 non-null  int64  \n",
            " 7   avg_glucose_level  40910 non-null  float64\n",
            " 8   bmi                40910 non-null  float64\n",
            " 9   smoking_status     40910 non-null  int64  \n",
            " 10  stroke             40910 non-null  int64  \n",
            "dtypes: float64(4), int64(7)\n",
            "memory usage: 3.4 MB\n"
          ]
        }
      ]
    },
    {
      "cell_type": "code",
      "source": [
        "df = df.dropna()"
      ],
      "metadata": {
        "id": "wVpTRedEsiBs"
      },
      "execution_count": null,
      "outputs": []
    },
    {
      "cell_type": "code",
      "source": [
        "df.duplicated().sum()"
      ],
      "metadata": {
        "colab": {
          "base_uri": "https://localhost:8080/"
        },
        "id": "lsKMqFrfYwIj",
        "outputId": "1b085d9a-e81a-4164-fca5-ed781237da14"
      },
      "execution_count": null,
      "outputs": [
        {
          "output_type": "execute_result",
          "data": {
            "text/plain": [
              "0"
            ]
          },
          "metadata": {},
          "execution_count": 12
        }
      ]
    },
    {
      "cell_type": "code",
      "source": [
        "df.info()"
      ],
      "metadata": {
        "colab": {
          "base_uri": "https://localhost:8080/"
        },
        "id": "0GO-9kCwsnbc",
        "outputId": "efefa47d-8fa2-4d09-9647-86c4f0af61b1"
      },
      "execution_count": null,
      "outputs": [
        {
          "output_type": "stream",
          "name": "stdout",
          "text": [
            "<class 'pandas.core.frame.DataFrame'>\n",
            "Index: 40907 entries, 0 to 40909\n",
            "Data columns (total 11 columns):\n",
            " #   Column             Non-Null Count  Dtype  \n",
            "---  ------             --------------  -----  \n",
            " 0   sex                40907 non-null  float64\n",
            " 1   age                40907 non-null  float64\n",
            " 2   hypertension       40907 non-null  int64  \n",
            " 3   heart_disease      40907 non-null  int64  \n",
            " 4   ever_married       40907 non-null  int64  \n",
            " 5   work_type          40907 non-null  int64  \n",
            " 6   Residence_type     40907 non-null  int64  \n",
            " 7   avg_glucose_level  40907 non-null  float64\n",
            " 8   bmi                40907 non-null  float64\n",
            " 9   smoking_status     40907 non-null  int64  \n",
            " 10  stroke             40907 non-null  int64  \n",
            "dtypes: float64(4), int64(7)\n",
            "memory usage: 3.7 MB\n"
          ]
        }
      ]
    },
    {
      "cell_type": "code",
      "source": [
        "#Identifikasi outlier\n",
        "numeric_columns = ['age', 'avg_glucose_level', 'bmi']\n",
        "\n",
        "fig, axs = plt.subplots(ncols=len(numeric_columns), figsize=(20, 5))\n",
        "\n",
        "for i, column in enumerate(numeric_columns):\n",
        "    sns.boxplot(y=column, data=df, ax=axs[i], whis=1.5)\n",
        "    axs[i].set_title(f'Box Plot for {column}')\n",
        "    axs[i].set_xlabel('')\n",
        "\n",
        "plt.tight_layout(pad=0.4, w_pad=0.5, h_pad=5.0)\n",
        "plt.show()"
      ],
      "metadata": {
        "colab": {
          "base_uri": "https://localhost:8080/",
          "height": 525
        },
        "id": "ju0rFR8KvjyZ",
        "outputId": "42d64c71-433a-438a-e776-9b75a060ba90"
      },
      "execution_count": null,
      "outputs": [
        {
          "output_type": "display_data",
          "data": {
            "text/plain": [
              "<Figure size 2000x500 with 3 Axes>"
            ],
            "image/png": "[encoded data removed]"
          },
          "metadata": {}
        }
      ]
    },
    {
      "cell_type": "code",
      "source": [
        "def remove_outliers(df, cols):\n",
        "    for col in cols:\n",
        "        Q1 = df[col].quantile(0.25)\n",
        "        Q3 = df[col].quantile(0.75)\n",
        "        IQR = Q3 - Q1\n",
        "        lower_bound = Q1 - 1.5 * IQR\n",
        "        upper_bound = Q3 + 1.5 * IQR\n",
        "        df = df[(df[col] >= lower_bound) & (df[col] <= upper_bound)]\n",
        "    return df\n",
        "\n",
        "# Menghapus outlier dari DataFrame\n",
        "df_cleaned = remove_outliers(df, numeric_columns)"
      ],
      "metadata": {
        "id": "-MjNp9DcsJlA"
      },
      "execution_count": null,
      "outputs": []
    },
    {
      "cell_type": "code",
      "source": [
        "df = df_cleaned.copy()"
      ],
      "metadata": {
        "id": "BJUyd3LLsLyR"
      },
      "execution_count": null,
      "outputs": []
    },
    {
      "cell_type": "code",
      "source": [
        "# Pemeriksaan outlier\n",
        "fig, axs = plt.subplots(ncols=len(numeric_columns), figsize=(20, 5))\n",
        "\n",
        "for i, column in enumerate(numeric_columns):\n",
        "    sns.boxplot(y=column, data=df, ax=axs[i], whis=1.5)\n",
        "    axs[i].set_title(f'Box Plot for {column}')\n",
        "    axs[i].set_xlabel('')\n",
        "\n",
        "plt.tight_layout(pad=0.4, w_pad=0.5, h_pad=5.0)\n",
        "plt.show()"
      ],
      "metadata": {
        "colab": {
          "base_uri": "https://localhost:8080/",
          "height": 525
        },
        "id": "_4BzTI0gwGPL",
        "outputId": "ef606ccc-b4de-453d-a836-ccffbc234878"
      },
      "execution_count": null,
      "outputs": [
        {
          "output_type": "display_data",
          "data": {
            "text/plain": [
              "<Figure size 2000x500 with 3 Axes>"
            ],
            "image/png": "[encoded data removed]"
          },
          "metadata": {}
        }
      ]
    },
    {
      "cell_type": "code",
      "source": [
        "selected_features = df[['age','avg_glucose_level','bmi','hypertension', 'heart_disease','smoking_status','stroke']]"
      ],
      "metadata": {
        "id": "im59Q2MZaqhK"
      },
      "execution_count": null,
      "outputs": []
    },
    {
      "cell_type": "code",
      "source": [
        "selected_features.duplicated().sum()"
      ],
      "metadata": {
        "colab": {
          "base_uri": "https://localhost:8080/"
        },
        "id": "nQJ6J893ud3M",
        "outputId": "d585be74-bd56-4bfc-a64d-9f5bcfdfd8c7"
      },
      "execution_count": null,
      "outputs": [
        {
          "output_type": "execute_result",
          "data": {
            "text/plain": [
              "6883"
            ]
          },
          "metadata": {},
          "execution_count": 19
        }
      ]
    },
    {
      "cell_type": "code",
      "source": [
        "df = selected_features.drop_duplicates()"
      ],
      "metadata": {
        "id": "MDtKpMwCueZE"
      },
      "execution_count": null,
      "outputs": []
    },
    {
      "cell_type": "code",
      "source": [
        "df"
      ],
      "metadata": {
        "colab": {
          "base_uri": "https://localhost:8080/",
          "height": 424
        },
        "id": "talPwmkSaVGK",
        "outputId": "03ebf5fc-4a16-4a20-ce61-aa521ce561a5"
      },
      "execution_count": null,
      "outputs": [
        {
          "output_type": "execute_result",
          "data": {
            "text/plain": [
              "        age  avg_glucose_level   bmi  hypertension  heart_disease  \\\n",
              "0      63.0             228.69  36.6             0              1   \n",
              "1      42.0             105.92  32.5             0              1   \n",
              "2      61.0             171.23  34.4             0              0   \n",
              "3      41.0             174.12  24.0             1              0   \n",
              "4      85.0             186.21  29.0             0              0   \n",
              "...     ...                ...   ...           ...            ...   \n",
              "40903  30.0              79.55  21.1             0              0   \n",
              "40905  38.0             120.94  29.7             0              0   \n",
              "40906  53.0              77.66  40.8             0              0   \n",
              "40908  42.0             216.38  34.5             0              0   \n",
              "40909  35.0              95.01  28.0             0              0   \n",
              "\n",
              "       smoking_status  stroke  \n",
              "0                   1       1  \n",
              "1                   0       1  \n",
              "2                   1       1  \n",
              "3                   0       1  \n",
              "4                   1       1  \n",
              "...               ...     ...  \n",
              "40903               1       0  \n",
              "40905               1       0  \n",
              "40906               0       0  \n",
              "40908               0       0  \n",
              "40909               0       0  \n",
              "\n",
              "[33102 rows x 7 columns]"
            ],
            "text/html": [
              "\n",
              "  <div id=\"df-91ef4f24-61de-49b6-a71b-c2910ed23d63\" class=\"colab-df-container\">\n",
              "    <div>\n",
              "<style scoped>\n",
              "    .dataframe tbody tr th:only-of-type {\n",
              "        vertical-align: middle;\n",
              "    }\n",
              "\n",
              "    .dataframe tbody tr th {\n",
              "        vertical-align: top;\n",
              "    }\n",
              "\n",
              "    .dataframe thead th {\n",
              "        text-align: right;\n",
              "    }\n",
              "</style>\n",
              "<table border=\"1\" class=\"dataframe\">\n",
              "  <thead>\n",
              "    <tr style=\"text-align: right;\">\n",
              "      <th></th>\n",
              "      <th>age</th>\n",
              "      <th>avg_glucose_level</th>\n",
              "      <th>bmi</th>\n",
              "      <th>hypertension</th>\n",
              "      <th>heart_disease</th>\n",
              "      <th>smoking_status</th>\n",
              "      <th>stroke</th>\n",
              "    </tr>\n",
              "  </thead>\n",
              "  <tbody>\n",
              "    <tr>\n",
              "      <th>0</th>\n",
              "      <td>63.0</td>\n",
              "      <td>228.69</td>\n",
              "      <td>36.6</td>\n",
              "      <td>0</td>\n",
              "      <td>1</td>\n",
              "      <td>1</td>\n",
              "      <td>1</td>\n",
              "    </tr>\n",
              "    <tr>\n",
              "      <th>1</th>\n",
              "      <td>42.0</td>\n",
              "      <td>105.92</td>\n",
              "      <td>32.5</td>\n",
              "      <td>0</td>\n",
              "      <td>1</td>\n",
              "      <td>0</td>\n",
              "      <td>1</td>\n",
              "    </tr>\n",
              "    <tr>\n",
              "      <th>2</th>\n",
              "      <td>61.0</td>\n",
              "      <td>171.23</td>\n",
              "      <td>34.4</td>\n",
              "      <td>0</td>\n",
              "      <td>0</td>\n",
              "      <td>1</td>\n",
              "      <td>1</td>\n",
              "    </tr>\n",
              "    <tr>\n",
              "      <th>3</th>\n",
              "      <td>41.0</td>\n",
              "      <td>174.12</td>\n",
              "      <td>24.0</td>\n",
              "      <td>1</td>\n",
              "      <td>0</td>\n",
              "      <td>0</td>\n",
              "      <td>1</td>\n",
              "    </tr>\n",
              "    <tr>\n",
              "      <th>4</th>\n",
              "      <td>85.0</td>\n",
              "      <td>186.21</td>\n",
              "      <td>29.0</td>\n",
              "      <td>0</td>\n",
              "      <td>0</td>\n",
              "      <td>1</td>\n",
              "      <td>1</td>\n",
              "    </tr>\n",
              "    <tr>\n",
              "      <th>...</th>\n",
              "      <td>...</td>\n",
              "      <td>...</td>\n",
              "      <td>...</td>\n",
              "      <td>...</td>\n",
              "      <td>...</td>\n",
              "      <td>...</td>\n",
              "      <td>...</td>\n",
              "    </tr>\n",
              "    <tr>\n",
              "      <th>40903</th>\n",
              "      <td>30.0</td>\n",
              "      <td>79.55</td>\n",
              "      <td>21.1</td>\n",
              "      <td>0</td>\n",
              "      <td>0</td>\n",
              "      <td>1</td>\n",
              "      <td>0</td>\n",
              "    </tr>\n",
              "    <tr>\n",
              "      <th>40905</th>\n",
              "      <td>38.0</td>\n",
              "      <td>120.94</td>\n",
              "      <td>29.7</td>\n",
              "      <td>0</td>\n",
              "      <td>0</td>\n",
              "      <td>1</td>\n",
              "      <td>0</td>\n",
              "    </tr>\n",
              "    <tr>\n",
              "      <th>40906</th>\n",
              "      <td>53.0</td>\n",
              "      <td>77.66</td>\n",
              "      <td>40.8</td>\n",
              "      <td>0</td>\n",
              "      <td>0</td>\n",
              "      <td>0</td>\n",
              "      <td>0</td>\n",
              "    </tr>\n",
              "    <tr>\n",
              "      <th>40908</th>\n",
              "      <td>42.0</td>\n",
              "      <td>216.38</td>\n",
              "      <td>34.5</td>\n",
              "      <td>0</td>\n",
              "      <td>0</td>\n",
              "      <td>0</td>\n",
              "      <td>0</td>\n",
              "    </tr>\n",
              "    <tr>\n",
              "      <th>40909</th>\n",
              "      <td>35.0</td>\n",
              "      <td>95.01</td>\n",
              "      <td>28.0</td>\n",
              "      <td>0</td>\n",
              "      <td>0</td>\n",
              "      <td>0</td>\n",
              "      <td>0</td>\n",
              "    </tr>\n",
              "  </tbody>\n",
              "</table>\n",
              "<p>33102 rows × 7 columns</p>\n",
              "</div>\n",
              "    <div class=\"colab-df-buttons\">\n",
              "\n",
              "  <div class=\"colab-df-container\">\n",
              "    <button class=\"colab-df-convert\" onclick=\"convertToInteractive('df-91ef4f24-61de-49b6-a71b-c2910ed23d63')\"\n",
              "            title=\"Convert this dataframe to an interactive table.\"\n",
              "            style=\"display:none;\">\n",
              "\n",
              "  <svg xmlns=\"http://www.w3.org/2000/svg\" height=\"24px\" viewBox=\"0 -960 960 960\">\n",
              "    <path d=\"M120-120v-720h720v720H120Zm60-500h600v-160H180v160Zm220 220h160v-160H400v160Zm0 220h160v-160H400v160ZM180-400h160v-160H180v160Zm440 0h160v-160H620v160ZM180-180h160v-160H180v160Zm440 0h160v-160H620v160Z\"/>\n",
              "  </svg>\n",
              "    </button>\n",
              "\n",
              "  <style>\n",
              "    .colab-df-container {\n",
              "      display:flex;\n",
              "      gap: 12px;\n",
              "    }\n",
              "\n",
              "    .colab-df-convert {\n",
              "      background-color: #E8F0FE;\n",
              "      border: none;\n",
              "      border-radius: 50%;\n",
              "      cursor: pointer;\n",
              "      display: none;\n",
              "      fill: #1967D2;\n",
              "      height: 32px;\n",
              "      padding: 0 0 0 0;\n",
              "      width: 32px;\n",
              "    }\n",
              "\n",
              "    .colab-df-convert:hover {\n",
              "      background-color: #E2EBFA;\n",
              "      box-shadow: 0px 1px 2px rgba(60, 64, 67, 0.3), 0px 1px 3px 1px rgba(60, 64, 67, 0.15);\n",
              "      fill: #174EA6;\n",
              "    }\n",
              "\n",
              "    .colab-df-buttons div {\n",
              "      margin-bottom: 4px;\n",
              "    }\n",
              "\n",
              "    [theme=dark] .colab-df-convert {\n",
              "      background-color: #3B4455;\n",
              "      fill: #D2E3FC;\n",
              "    }\n",
              "\n",
              "    [theme=dark] .colab-df-convert:hover {\n",
              "      background-color: #434B5C;\n",
              "      box-shadow: 0px 1px 3px 1px rgba(0, 0, 0, 0.15);\n",
              "      filter: drop-shadow(0px 1px 2px rgba(0, 0, 0, 0.3));\n",
              "      fill: #FFFFFF;\n",
              "    }\n",
              "  </style>\n",
              "\n",
              "    <script>\n",
              "      const buttonEl =\n",
              "        document.querySelector('#df-91ef4f24-61de-49b6-a71b-c2910ed23d63 button.colab-df-convert');\n",
              "      buttonEl.style.display =\n",
              "        google.colab.kernel.accessAllowed ? 'block' : 'none';\n",
              "\n",
              "      async function convertToInteractive(key) {\n",
              "        const element = document.querySelector('#df-91ef4f24-61de-49b6-a71b-c2910ed23d63');\n",
              "        const dataTable =\n",
              "          await google.colab.kernel.invokeFunction('convertToInteractive',\n",
              "                                                    [key], {});\n",
              "        if (!dataTable) return;\n",
              "\n",
              "        const docLinkHtml = 'Like what you see? Visit the ' +\n",
              "          '<a target=\"_blank\" href=https://colab.research.google.com/notebooks/data_table.ipynb>data table notebook</a>'\n",
              "          + ' to learn more about interactive tables.';\n",
              "        element.innerHTML = '';\n",
              "        dataTable['output_type'] = 'display_data';\n",
              "        await google.colab.output.renderOutput(dataTable, element);\n",
              "        const docLink = document.createElement('div');\n",
              "        docLink.innerHTML = docLinkHtml;\n",
              "        element.appendChild(docLink);\n",
              "      }\n",
              "    </script>\n",
              "  </div>\n",
              "\n",
              "\n",
              "<div id=\"df-b9c07a15-8967-4e6b-a241-2e44b07230b4\">\n",
              "  <button class=\"colab-df-quickchart\" onclick=\"quickchart('df-b9c07a15-8967-4e6b-a241-2e44b07230b4')\"\n",
              "            title=\"Suggest charts\"\n",
              "            style=\"display:none;\">\n",
              "\n",
              "<svg xmlns=\"http://www.w3.org/2000/svg\" height=\"24px\"viewBox=\"0 0 24 24\"\n",
              "     width=\"24px\">\n",
              "    <g>\n",
              "        <path d=\"M19 3H5c-1.1 0-2 .9-2 2v14c0 1.1.9 2 2 2h14c1.1 0 2-.9 2-2V5c0-1.1-.9-2-2-2zM9 17H7v-7h2v7zm4 0h-2V7h2v10zm4 0h-2v-4h2v4z\"/>\n",
              "    </g>\n",
              "</svg>\n",
              "  </button>\n",
              "\n",
              "<style>\n",
              "  .colab-df-quickchart {\n",
              "      --bg-color: #E8F0FE;\n",
              "      --fill-color: #1967D2;\n",
              "      --hover-bg-color: #E2EBFA;\n",
              "      --hover-fill-color: #174EA6;\n",
              "      --disabled-fill-color: #AAA;\n",
              "      --disabled-bg-color: #DDD;\n",
              "  }\n",
              "\n",
              "  [theme=dark] .colab-df-quickchart {\n",
              "      --bg-color: #3B4455;\n",
              "      --fill-color: #D2E3FC;\n",
              "      --hover-bg-color: #434B5C;\n",
              "      --hover-fill-color: #FFFFFF;\n",
              "      --disabled-bg-color: #3B4455;\n",
              "      --disabled-fill-color: #666;\n",
              "  }\n",
              "\n",
              "  .colab-df-quickchart {\n",
              "    background-color: var(--bg-color);\n",
              "    border: none;\n",
              "    border-radius: 50%;\n",
              "    cursor: pointer;\n",
              "    display: none;\n",
              "    fill: var(--fill-color);\n",
              "    height: 32px;\n",
              "    padding: 0;\n",
              "    width: 32px;\n",
              "  }\n",
              "\n",
              "  .colab-df-quickchart:hover {\n",
              "    background-color: var(--hover-bg-color);\n",
              "    box-shadow: 0 1px 2px rgba(60, 64, 67, 0.3), 0 1px 3px 1px rgba(60, 64, 67, 0.15);\n",
              "    fill: var(--button-hover-fill-color);\n",
              "  }\n",
              "\n",
              "  .colab-df-quickchart-complete:disabled,\n",
              "  .colab-df-quickchart-complete:disabled:hover {\n",
              "    background-color: var(--disabled-bg-color);\n",
              "    fill: var(--disabled-fill-color);\n",
              "    box-shadow: none;\n",
              "  }\n",
              "\n",
              "  .colab-df-spinner {\n",
              "    border: 2px solid var(--fill-color);\n",
              "    border-color: transparent;\n",
              "    border-bottom-color: var(--fill-color);\n",
              "    animation:\n",
              "      spin 1s steps(1) infinite;\n",
              "  }\n",
              "\n",
              "  @keyframes spin {\n",
              "    0% {\n",
              "      border-color: transparent;\n",
              "      border-bottom-color: var(--fill-color);\n",
              "      border-left-color: var(--fill-color);\n",
              "    }\n",
              "    20% {\n",
              "      border-color: transparent;\n",
              "      border-left-color: var(--fill-color);\n",
              "      border-top-color: var(--fill-color);\n",
              "    }\n",
              "    30% {\n",
              "      border-color: transparent;\n",
              "      border-left-color: var(--fill-color);\n",
              "      border-top-color: var(--fill-color);\n",
              "      border-right-color: var(--fill-color);\n",
              "    }\n",
              "    40% {\n",
              "      border-color: transparent;\n",
              "      border-right-color: var(--fill-color);\n",
              "      border-top-color: var(--fill-color);\n",
              "    }\n",
              "    60% {\n",
              "      border-color: transparent;\n",
              "      border-right-color: var(--fill-color);\n",
              "    }\n",
              "    80% {\n",
              "      border-color: transparent;\n",
              "      border-right-color: var(--fill-color);\n",
              "      border-bottom-color: var(--fill-color);\n",
              "    }\n",
              "    90% {\n",
              "      border-color: transparent;\n",
              "      border-bottom-color: var(--fill-color);\n",
              "    }\n",
              "  }\n",
              "</style>\n",
              "\n",
              "  <script>\n",
              "    async function quickchart(key) {\n",
              "      const quickchartButtonEl =\n",
              "        document.querySelector('#' + key + ' button');\n",
              "      quickchartButtonEl.disabled = true;  // To prevent multiple clicks.\n",
              "      quickchartButtonEl.classList.add('colab-df-spinner');\n",
              "      try {\n",
              "        const charts = await google.colab.kernel.invokeFunction(\n",
              "            'suggestCharts', [key], {});\n",
              "      } catch (error) {\n",
              "        console.error('Error during call to suggestCharts:', error);\n",
              "      }\n",
              "      quickchartButtonEl.classList.remove('colab-df-spinner');\n",
              "      quickchartButtonEl.classList.add('colab-df-quickchart-complete');\n",
              "    }\n",
              "    (() => {\n",
              "      let quickchartButtonEl =\n",
              "        document.querySelector('#df-b9c07a15-8967-4e6b-a241-2e44b07230b4 button');\n",
              "      quickchartButtonEl.style.display =\n",
              "        google.colab.kernel.accessAllowed ? 'block' : 'none';\n",
              "    })();\n",
              "  </script>\n",
              "</div>\n",
              "    </div>\n",
              "  </div>\n"
            ],
            "application/vnd.google.colaboratory.intrinsic+json": {
              "type": "dataframe",
              "variable_name": "df",
              "summary": "{\n  \"name\": \"df\",\n  \"rows\": 33102,\n  \"fields\": [\n    {\n      \"column\": \"age\",\n      \"properties\": {\n        \"dtype\": \"number\",\n        \"std\": 21.879984979476824,\n        \"min\": -9.0,\n        \"max\": 103.0,\n        \"num_unique_values\": 111,\n        \"samples\": [\n          92.0,\n          26.0,\n          85.0\n        ],\n        \"semantic_type\": \"\",\n        \"description\": \"\"\n      }\n    },\n    {\n      \"column\": \"avg_glucose_level\",\n      \"properties\": {\n        \"dtype\": \"number\",\n        \"std\": 55.16288534821492,\n        \"min\": 55.12,\n        \"max\": 271.74,\n        \"num_unique_values\": 2826,\n        \"samples\": [\n          100.02,\n          130.07,\n          62.66\n        ],\n        \"semantic_type\": \"\",\n        \"description\": \"\"\n      }\n    },\n    {\n      \"column\": \"bmi\",\n      \"properties\": {\n        \"dtype\": \"number\",\n        \"std\": 6.013022003545878,\n        \"min\": 14.1,\n        \"max\": 46.3,\n        \"num_unique_values\": 297,\n        \"samples\": [\n          23.2,\n          35.0,\n          31.3\n        ],\n        \"semantic_type\": \"\",\n        \"description\": \"\"\n      }\n    },\n    {\n      \"column\": \"hypertension\",\n      \"properties\": {\n        \"dtype\": \"number\",\n        \"std\": 0,\n        \"min\": 0,\n        \"max\": 1,\n        \"num_unique_values\": 2,\n        \"samples\": [\n          1,\n          0\n        ],\n        \"semantic_type\": \"\",\n        \"description\": \"\"\n      }\n    },\n    {\n      \"column\": \"heart_disease\",\n      \"properties\": {\n        \"dtype\": \"number\",\n        \"std\": 0,\n        \"min\": 0,\n        \"max\": 1,\n        \"num_unique_values\": 2,\n        \"samples\": [\n          0,\n          1\n        ],\n        \"semantic_type\": \"\",\n        \"description\": \"\"\n      }\n    },\n    {\n      \"column\": \"smoking_status\",\n      \"properties\": {\n        \"dtype\": \"number\",\n        \"std\": 0,\n        \"min\": 0,\n        \"max\": 1,\n        \"num_unique_values\": 2,\n        \"samples\": [\n          0,\n          1\n        ],\n        \"semantic_type\": \"\",\n        \"description\": \"\"\n      }\n    },\n    {\n      \"column\": \"stroke\",\n      \"properties\": {\n        \"dtype\": \"number\",\n        \"std\": 0,\n        \"min\": 0,\n        \"max\": 1,\n        \"num_unique_values\": 2,\n        \"samples\": [\n          0,\n          1\n        ],\n        \"semantic_type\": \"\",\n        \"description\": \"\"\n      }\n    }\n  ]\n}"
            }
          },
          "metadata": {},
          "execution_count": 21
        }
      ]
    },
    {
      "cell_type": "code",
      "source": [
        "# Membagi data menjadi fitur (X) dan target (y)\n",
        "X = df.drop(columns=['stroke'])\n",
        "y = df['stroke']"
      ],
      "metadata": {
        "id": "ZjXVsfD_KobG"
      },
      "execution_count": null,
      "outputs": []
    },
    {
      "cell_type": "code",
      "source": [
        "# Pemisahan data menjadi data pelatihan dan pengujian\n",
        "X_train, X_test, y_train, y_test = train_test_split(X, y, test_size=0.2, random_state=45545)"
      ],
      "metadata": {
        "id": "uvdGMJrvN2Z6"
      },
      "execution_count": null,
      "outputs": []
    },
    {
      "cell_type": "code",
      "source": [
        "# Membuat model Neural Network\n",
        "model = tf.keras.Sequential([\n",
        "    tf.keras.layers.Dense(512, input_dim= 6 ,activation = \"relu\"),\n",
        "    tf.keras.layers.Dense(256,activation = \"relu\"),\n",
        "    tf.keras.layers.Dense(128,activation = \"relu\"),\n",
        "    tf.keras.layers.Dense(64,activation = \"relu\"),\n",
        "    tf.keras.layers.Dense(32,activation = \"relu\"),\n",
        "    tf.keras.layers.Dense(16,activation = \"relu\"),\n",
        "    tf.keras.layers.Dense(8,activation = \"relu\"),\n",
        "    tf.keras.layers.Dense(1, activation = \"sigmoid\")\n",
        "])\n",
        "\n",
        "model.compile(optimizer= Adam(learning_rate = 0.001),\n",
        "              loss='binary_crossentropy',\n",
        "              metrics=['accuracy'])\n",
        "\n",
        "\n",
        "history = model.fit(X_train, y_train, epochs=100, batch_size=32, validation_data = (X_test, y_test))\n"
      ],
      "metadata": {
        "colab": {
          "base_uri": "https://localhost:8080/"
        },
        "id": "wMeOCknHQOyx",
        "outputId": "b9e80e82-a5e8-4feb-df25-a782eac549f9"
      },
      "execution_count": null,
      "outputs": [
        {
          "output_type": "stream",
          "name": "stdout",
          "text": [
            "Epoch 1/100\n",
            "828/828 [==============================] - 8s 7ms/step - loss: 0.6480 - accuracy: 0.6396 - val_loss: 0.6087 - val_accuracy: 0.6834\n",
            "Epoch 2/100\n",
            "828/828 [==============================] - 8s 9ms/step - loss: 0.6137 - accuracy: 0.6780 - val_loss: 0.5949 - val_accuracy: 0.7055\n",
            "Epoch 3/100\n",
            "828/828 [==============================] - 6s 7ms/step - loss: 0.5971 - accuracy: 0.6996 - val_loss: 0.6041 - val_accuracy: 0.6855\n",
            "Epoch 4/100\n",
            "828/828 [==============================] - 7s 9ms/step - loss: 0.5941 - accuracy: 0.6994 - val_loss: 0.5886 - val_accuracy: 0.7109\n",
            "Epoch 5/100\n",
            "828/828 [==============================] - 6s 7ms/step - loss: 0.5919 - accuracy: 0.7013 - val_loss: 0.5814 - val_accuracy: 0.7108\n",
            "Epoch 6/100\n",
            "828/828 [==============================] - 8s 10ms/step - loss: 0.5893 - accuracy: 0.7030 - val_loss: 0.5847 - val_accuracy: 0.7115\n",
            "Epoch 7/100\n",
            "828/828 [==============================] - 6s 7ms/step - loss: 0.5850 - accuracy: 0.7082 - val_loss: 0.5754 - val_accuracy: 0.7138\n",
            "Epoch 8/100\n",
            "828/828 [==============================] - 7s 8ms/step - loss: 0.5842 - accuracy: 0.7053 - val_loss: 0.5705 - val_accuracy: 0.7151\n",
            "Epoch 9/100\n",
            "828/828 [==============================] - 6s 7ms/step - loss: 0.5823 - accuracy: 0.7083 - val_loss: 0.5720 - val_accuracy: 0.7212\n",
            "Epoch 10/100\n",
            "828/828 [==============================] - 6s 7ms/step - loss: 0.5794 - accuracy: 0.7098 - val_loss: 0.5669 - val_accuracy: 0.7161\n",
            "Epoch 11/100\n",
            "828/828 [==============================] - 7s 8ms/step - loss: 0.5775 - accuracy: 0.7092 - val_loss: 0.5756 - val_accuracy: 0.7126\n",
            "Epoch 12/100\n",
            "828/828 [==============================] - 6s 7ms/step - loss: 0.5764 - accuracy: 0.7134 - val_loss: 0.5674 - val_accuracy: 0.7153\n",
            "Epoch 13/100\n",
            "828/828 [==============================] - 7s 9ms/step - loss: 0.5734 - accuracy: 0.7131 - val_loss: 0.5748 - val_accuracy: 0.7085\n",
            "Epoch 14/100\n",
            "828/828 [==============================] - 6s 7ms/step - loss: 0.5705 - accuracy: 0.7176 - val_loss: 0.5660 - val_accuracy: 0.7195\n",
            "Epoch 15/100\n",
            "828/828 [==============================] - 7s 9ms/step - loss: 0.5729 - accuracy: 0.7117 - val_loss: 0.5699 - val_accuracy: 0.7132\n",
            "Epoch 16/100\n",
            "828/828 [==============================] - 6s 7ms/step - loss: 0.5684 - accuracy: 0.7161 - val_loss: 0.5633 - val_accuracy: 0.7200\n",
            "Epoch 17/100\n",
            "828/828 [==============================] - 7s 9ms/step - loss: 0.5674 - accuracy: 0.7174 - val_loss: 0.5667 - val_accuracy: 0.7136\n",
            "Epoch 18/100\n",
            "828/828 [==============================] - 7s 9ms/step - loss: 0.5634 - accuracy: 0.7192 - val_loss: 0.5536 - val_accuracy: 0.7328\n",
            "Epoch 19/100\n",
            "828/828 [==============================] - 7s 9ms/step - loss: 0.5621 - accuracy: 0.7224 - val_loss: 0.5552 - val_accuracy: 0.7207\n",
            "Epoch 20/100\n",
            "828/828 [==============================] - 6s 7ms/step - loss: 0.5584 - accuracy: 0.7230 - val_loss: 0.5632 - val_accuracy: 0.7192\n",
            "Epoch 21/100\n",
            "828/828 [==============================] - 7s 9ms/step - loss: 0.5576 - accuracy: 0.7246 - val_loss: 0.5516 - val_accuracy: 0.7241\n",
            "Epoch 22/100\n",
            "828/828 [==============================] - 6s 7ms/step - loss: 0.5515 - accuracy: 0.7294 - val_loss: 0.5420 - val_accuracy: 0.7352\n",
            "Epoch 23/100\n",
            "828/828 [==============================] - 8s 9ms/step - loss: 0.5531 - accuracy: 0.7263 - val_loss: 0.5484 - val_accuracy: 0.7321\n",
            "Epoch 24/100\n",
            "828/828 [==============================] - 6s 7ms/step - loss: 0.5500 - accuracy: 0.7273 - val_loss: 0.5654 - val_accuracy: 0.7161\n",
            "Epoch 25/100\n",
            "828/828 [==============================] - 6s 8ms/step - loss: 0.5493 - accuracy: 0.7294 - val_loss: 0.5412 - val_accuracy: 0.7416\n",
            "Epoch 26/100\n",
            "828/828 [==============================] - 6s 8ms/step - loss: 0.5452 - accuracy: 0.7281 - val_loss: 0.5334 - val_accuracy: 0.7366\n",
            "Epoch 27/100\n",
            "828/828 [==============================] - 6s 7ms/step - loss: 0.5443 - accuracy: 0.7323 - val_loss: 0.5408 - val_accuracy: 0.7354\n",
            "Epoch 28/100\n",
            "828/828 [==============================] - 7s 8ms/step - loss: 0.5423 - accuracy: 0.7351 - val_loss: 0.5341 - val_accuracy: 0.7413\n",
            "Epoch 29/100\n",
            "828/828 [==============================] - 6s 7ms/step - loss: 0.5393 - accuracy: 0.7365 - val_loss: 0.5222 - val_accuracy: 0.7437\n",
            "Epoch 30/100\n",
            "828/828 [==============================] - 7s 9ms/step - loss: 0.5388 - accuracy: 0.7351 - val_loss: 0.5295 - val_accuracy: 0.7389\n",
            "Epoch 31/100\n",
            "828/828 [==============================] - 5s 7ms/step - loss: 0.5351 - accuracy: 0.7379 - val_loss: 0.5287 - val_accuracy: 0.7432\n",
            "Epoch 32/100\n",
            "828/828 [==============================] - 7s 9ms/step - loss: 0.5326 - accuracy: 0.7392 - val_loss: 0.5455 - val_accuracy: 0.7312\n",
            "Epoch 33/100\n",
            "828/828 [==============================] - 5s 6ms/step - loss: 0.5300 - accuracy: 0.7414 - val_loss: 0.5177 - val_accuracy: 0.7451\n",
            "Epoch 34/100\n",
            "828/828 [==============================] - 6s 7ms/step - loss: 0.5270 - accuracy: 0.7408 - val_loss: 0.5175 - val_accuracy: 0.7457\n",
            "Epoch 35/100\n",
            "828/828 [==============================] - 7s 8ms/step - loss: 0.5268 - accuracy: 0.7431 - val_loss: 0.5125 - val_accuracy: 0.7537\n",
            "Epoch 36/100\n",
            "828/828 [==============================] - 6s 7ms/step - loss: 0.5231 - accuracy: 0.7422 - val_loss: 0.5140 - val_accuracy: 0.7408\n",
            "Epoch 37/100\n",
            "828/828 [==============================] - 7s 9ms/step - loss: 0.5179 - accuracy: 0.7428 - val_loss: 0.4997 - val_accuracy: 0.7577\n",
            "Epoch 38/100\n",
            "828/828 [==============================] - 6s 7ms/step - loss: 0.5108 - accuracy: 0.7494 - val_loss: 0.5055 - val_accuracy: 0.7529\n",
            "Epoch 39/100\n",
            "828/828 [==============================] - 7s 9ms/step - loss: 0.5095 - accuracy: 0.7480 - val_loss: 0.4902 - val_accuracy: 0.7567\n",
            "Epoch 40/100\n",
            "828/828 [==============================] - 6s 7ms/step - loss: 0.5001 - accuracy: 0.7536 - val_loss: 0.5028 - val_accuracy: 0.7531\n",
            "Epoch 41/100\n",
            "828/828 [==============================] - 7s 9ms/step - loss: 0.4923 - accuracy: 0.7538 - val_loss: 0.5250 - val_accuracy: 0.7614\n",
            "Epoch 42/100\n",
            "828/828 [==============================] - 6s 7ms/step - loss: 0.4975 - accuracy: 0.7547 - val_loss: 0.4845 - val_accuracy: 0.7531\n",
            "Epoch 43/100\n",
            "828/828 [==============================] - 7s 8ms/step - loss: 0.4903 - accuracy: 0.7550 - val_loss: 0.5693 - val_accuracy: 0.7416\n",
            "Epoch 44/100\n",
            "828/828 [==============================] - 6s 7ms/step - loss: 0.4847 - accuracy: 0.7569 - val_loss: 0.4656 - val_accuracy: 0.7618\n",
            "Epoch 45/100\n",
            "828/828 [==============================] - 6s 7ms/step - loss: 0.4788 - accuracy: 0.7594 - val_loss: 0.4719 - val_accuracy: 0.7650\n",
            "Epoch 46/100\n",
            "828/828 [==============================] - 7s 8ms/step - loss: 0.4824 - accuracy: 0.7605 - val_loss: 0.4885 - val_accuracy: 0.7525\n",
            "Epoch 47/100\n",
            "828/828 [==============================] - 6s 7ms/step - loss: 0.4762 - accuracy: 0.7621 - val_loss: 0.4758 - val_accuracy: 0.7653\n",
            "Epoch 48/100\n",
            "828/828 [==============================] - 7s 9ms/step - loss: 0.4705 - accuracy: 0.7632 - val_loss: 0.4554 - val_accuracy: 0.7719\n",
            "Epoch 49/100\n",
            "828/828 [==============================] - 6s 7ms/step - loss: 0.4603 - accuracy: 0.7662 - val_loss: 0.4732 - val_accuracy: 0.7568\n",
            "Epoch 50/100\n",
            "828/828 [==============================] - 7s 9ms/step - loss: 0.4612 - accuracy: 0.7676 - val_loss: 0.4983 - val_accuracy: 0.7617\n",
            "Epoch 51/100\n",
            "828/828 [==============================] - 6s 7ms/step - loss: 0.4578 - accuracy: 0.7665 - val_loss: 0.4520 - val_accuracy: 0.7768\n",
            "Epoch 52/100\n",
            "828/828 [==============================] - 7s 9ms/step - loss: 0.4556 - accuracy: 0.7686 - val_loss: 0.4668 - val_accuracy: 0.7617\n",
            "Epoch 53/100\n",
            "828/828 [==============================] - 6s 7ms/step - loss: 0.4549 - accuracy: 0.7708 - val_loss: 0.5066 - val_accuracy: 0.7621\n",
            "Epoch 54/100\n",
            "828/828 [==============================] - 7s 8ms/step - loss: 0.4468 - accuracy: 0.7734 - val_loss: 0.4416 - val_accuracy: 0.7718\n",
            "Epoch 55/100\n",
            "828/828 [==============================] - 6s 7ms/step - loss: 0.4372 - accuracy: 0.7747 - val_loss: 0.4351 - val_accuracy: 0.7784\n",
            "Epoch 56/100\n",
            "828/828 [==============================] - 7s 8ms/step - loss: 0.4477 - accuracy: 0.7733 - val_loss: 0.4416 - val_accuracy: 0.7750\n",
            "Epoch 57/100\n",
            "828/828 [==============================] - 6s 7ms/step - loss: 0.4395 - accuracy: 0.7772 - val_loss: 0.4624 - val_accuracy: 0.7626\n",
            "Epoch 58/100\n",
            "828/828 [==============================] - 5s 6ms/step - loss: 0.4362 - accuracy: 0.7774 - val_loss: 0.4330 - val_accuracy: 0.7762\n",
            "Epoch 59/100\n",
            "828/828 [==============================] - 7s 9ms/step - loss: 0.4340 - accuracy: 0.7800 - val_loss: 0.4464 - val_accuracy: 0.7808\n",
            "Epoch 60/100\n",
            "828/828 [==============================] - 6s 7ms/step - loss: 0.4392 - accuracy: 0.7778 - val_loss: 0.4136 - val_accuracy: 0.7920\n",
            "Epoch 61/100\n",
            "828/828 [==============================] - 8s 10ms/step - loss: 0.4259 - accuracy: 0.7837 - val_loss: 0.4983 - val_accuracy: 0.7665\n",
            "Epoch 62/100\n",
            "828/828 [==============================] - 6s 8ms/step - loss: 0.4390 - accuracy: 0.7796 - val_loss: 0.4284 - val_accuracy: 0.7821\n",
            "Epoch 63/100\n",
            "828/828 [==============================] - 7s 9ms/step - loss: 0.4271 - accuracy: 0.7819 - val_loss: 0.4371 - val_accuracy: 0.7777\n",
            "Epoch 64/100\n",
            "828/828 [==============================] - 6s 7ms/step - loss: 0.4240 - accuracy: 0.7826 - val_loss: 0.4252 - val_accuracy: 0.7881\n",
            "Epoch 65/100\n",
            "828/828 [==============================] - 7s 8ms/step - loss: 0.4198 - accuracy: 0.7867 - val_loss: 0.4406 - val_accuracy: 0.7691\n",
            "Epoch 66/100\n",
            "828/828 [==============================] - 5s 7ms/step - loss: 0.4188 - accuracy: 0.7877 - val_loss: 0.4853 - val_accuracy: 0.7570\n",
            "Epoch 67/100\n",
            "828/828 [==============================] - 6s 8ms/step - loss: 0.4144 - accuracy: 0.7906 - val_loss: 0.3925 - val_accuracy: 0.7919\n",
            "Epoch 68/100\n",
            "828/828 [==============================] - 6s 7ms/step - loss: 0.4057 - accuracy: 0.7928 - val_loss: 0.4126 - val_accuracy: 0.7864\n",
            "Epoch 69/100\n",
            "828/828 [==============================] - 6s 7ms/step - loss: 0.4084 - accuracy: 0.7940 - val_loss: 0.4129 - val_accuracy: 0.7798\n",
            "Epoch 70/100\n",
            "828/828 [==============================] - 7s 9ms/step - loss: 0.4102 - accuracy: 0.7908 - val_loss: 0.4255 - val_accuracy: 0.7657\n",
            "Epoch 71/100\n",
            "828/828 [==============================] - 5s 6ms/step - loss: 0.4073 - accuracy: 0.7950 - val_loss: 0.4064 - val_accuracy: 0.7870\n",
            "Epoch 72/100\n",
            "828/828 [==============================] - 7s 9ms/step - loss: 0.4047 - accuracy: 0.7953 - val_loss: 0.3824 - val_accuracy: 0.8080\n",
            "Epoch 73/100\n",
            "828/828 [==============================] - 6s 7ms/step - loss: 0.4021 - accuracy: 0.7961 - val_loss: 0.4367 - val_accuracy: 0.7759\n",
            "Epoch 74/100\n",
            "828/828 [==============================] - 7s 9ms/step - loss: 0.4003 - accuracy: 0.7970 - val_loss: 0.3690 - val_accuracy: 0.8082\n",
            "Epoch 75/100\n",
            "828/828 [==============================] - 6s 7ms/step - loss: 0.3915 - accuracy: 0.8046 - val_loss: 0.3821 - val_accuracy: 0.8055\n",
            "Epoch 76/100\n",
            "828/828 [==============================] - 6s 7ms/step - loss: 0.3915 - accuracy: 0.8032 - val_loss: 0.3792 - val_accuracy: 0.7960\n",
            "Epoch 77/100\n",
            "828/828 [==============================] - 6s 8ms/step - loss: 0.3911 - accuracy: 0.8050 - val_loss: 0.3756 - val_accuracy: 0.7953\n",
            "Epoch 78/100\n",
            "828/828 [==============================] - 5s 7ms/step - loss: 0.3869 - accuracy: 0.8068 - val_loss: 0.3974 - val_accuracy: 0.7836\n",
            "Epoch 79/100\n",
            "828/828 [==============================] - 7s 9ms/step - loss: 0.3995 - accuracy: 0.8030 - val_loss: 0.4946 - val_accuracy: 0.7478\n",
            "Epoch 80/100\n",
            "828/828 [==============================] - 5s 7ms/step - loss: 0.3874 - accuracy: 0.8073 - val_loss: 0.3774 - val_accuracy: 0.8065\n",
            "Epoch 81/100\n",
            "828/828 [==============================] - 9s 10ms/step - loss: 0.3870 - accuracy: 0.8075 - val_loss: 0.3728 - val_accuracy: 0.8157\n",
            "Epoch 82/100\n",
            "828/828 [==============================] - 7s 8ms/step - loss: 0.3858 - accuracy: 0.8090 - val_loss: 0.3854 - val_accuracy: 0.8098\n",
            "Epoch 83/100\n",
            "828/828 [==============================] - 7s 8ms/step - loss: 0.3835 - accuracy: 0.8104 - val_loss: 0.3698 - val_accuracy: 0.8009\n",
            "Epoch 84/100\n",
            "828/828 [==============================] - 6s 7ms/step - loss: 0.3816 - accuracy: 0.8108 - val_loss: 0.3684 - val_accuracy: 0.8083\n",
            "Epoch 85/100\n",
            "828/828 [==============================] - 7s 8ms/step - loss: 0.3731 - accuracy: 0.8141 - val_loss: 0.4225 - val_accuracy: 0.7771\n",
            "Epoch 86/100\n",
            "828/828 [==============================] - 6s 7ms/step - loss: 0.3763 - accuracy: 0.8142 - val_loss: 0.3853 - val_accuracy: 0.8091\n",
            "Epoch 87/100\n",
            "828/828 [==============================] - 7s 8ms/step - loss: 0.3738 - accuracy: 0.8153 - val_loss: 0.3960 - val_accuracy: 0.8074\n",
            "Epoch 88/100\n",
            "828/828 [==============================] - 6s 8ms/step - loss: 0.3669 - accuracy: 0.8208 - val_loss: 0.3665 - val_accuracy: 0.8130\n",
            "Epoch 89/100\n",
            "828/828 [==============================] - 6s 7ms/step - loss: 0.3674 - accuracy: 0.8193 - val_loss: 0.3475 - val_accuracy: 0.8349\n",
            "Epoch 90/100\n",
            "828/828 [==============================] - 7s 9ms/step - loss: 0.3621 - accuracy: 0.8231 - val_loss: 0.3511 - val_accuracy: 0.8192\n",
            "Epoch 91/100\n",
            "828/828 [==============================] - 5s 6ms/step - loss: 0.3566 - accuracy: 0.8227 - val_loss: 0.3723 - val_accuracy: 0.8032\n",
            "Epoch 92/100\n",
            "828/828 [==============================] - 7s 8ms/step - loss: 0.3744 - accuracy: 0.8162 - val_loss: 0.3426 - val_accuracy: 0.8284\n",
            "Epoch 93/100\n",
            "828/828 [==============================] - 6s 7ms/step - loss: 0.3531 - accuracy: 0.8275 - val_loss: 0.3450 - val_accuracy: 0.8342\n",
            "Epoch 94/100\n",
            "828/828 [==============================] - 7s 8ms/step - loss: 0.3506 - accuracy: 0.8301 - val_loss: 0.3606 - val_accuracy: 0.8154\n",
            "Epoch 95/100\n",
            "828/828 [==============================] - 5s 7ms/step - loss: 0.3535 - accuracy: 0.8265 - val_loss: 0.4222 - val_accuracy: 0.8034\n",
            "Epoch 96/100\n",
            "828/828 [==============================] - 6s 7ms/step - loss: 0.3520 - accuracy: 0.8284 - val_loss: 0.3691 - val_accuracy: 0.8225\n",
            "Epoch 97/100\n",
            "828/828 [==============================] - 7s 8ms/step - loss: 0.3478 - accuracy: 0.8323 - val_loss: 0.3205 - val_accuracy: 0.8511\n",
            "Epoch 98/100\n",
            "828/828 [==============================] - 6s 7ms/step - loss: 0.3399 - accuracy: 0.8373 - val_loss: 0.3395 - val_accuracy: 0.8227\n",
            "Epoch 99/100\n",
            "828/828 [==============================] - 7s 9ms/step - loss: 0.3497 - accuracy: 0.8289 - val_loss: 0.4644 - val_accuracy: 0.7757\n",
            "Epoch 100/100\n",
            "828/828 [==============================] - 6s 7ms/step - loss: 0.3572 - accuracy: 0.8263 - val_loss: 0.3397 - val_accuracy: 0.8345\n"
          ]
        }
      ]
    },
    {
      "cell_type": "code",
      "source": [
        "# Evaluasi model pada data testing\n",
        "loss, accuracy = model.evaluate(X_test, y_test)\n",
        "print(f'Accuracy: {accuracy * 100:.2f}%')\n",
        "\n",
        "# Visualisasi loss dan accuracy\n",
        "import matplotlib.pyplot as plt\n",
        "\n",
        "# Plot training & validation accuracy values\n",
        "plt.figure(figsize=(14, 5))\n",
        "plt.subplot(1, 2, 1)\n",
        "plt.plot(history.history['accuracy'])\n",
        "plt.plot(history.history['val_accuracy'])\n",
        "plt.title('Model accuracy')\n",
        "plt.ylabel('Accuracy')\n",
        "plt.xlabel('Epoch')\n",
        "plt.legend(['Train', 'Validation'], loc='upper left')\n",
        "\n",
        "# Plot training & validation loss values\n",
        "plt.subplot(1, 2, 2)\n",
        "plt.plot(history.history['loss'])\n",
        "plt.plot(history.history['val_loss'])\n",
        "plt.title('Model loss')\n",
        "plt.ylabel('Loss')\n",
        "plt.xlabel('Epoch')\n",
        "plt.legend(['Train', 'Validation'], loc='upper left')\n",
        "\n",
        "plt.tight_layout()\n",
        "plt.show()\n"
      ],
      "metadata": {
        "colab": {
          "base_uri": "https://localhost:8080/",
          "height": 542
        },
        "id": "UpgN1owkPmOU",
        "outputId": "e402dd69-8f45-432a-fc6b-f78cbd988039"
      },
      "execution_count": null,
      "outputs": [
        {
          "output_type": "stream",
          "name": "stdout",
          "text": [
            "207/207 [==============================] - 2s 7ms/step - loss: 0.3397 - accuracy: 0.8345\n",
            "Accuracy: 83.45%\n"
          ]
        },
        {
          "output_type": "display_data",
          "data": {
            "text/plain": [
              "<Figure size 1400x500 with 2 Axes>"
            ],
            "image/png": "[encoded data removed]"
          },
          "metadata": {}
        }
      ]
    },
    {
      "cell_type": "code",
      "source": [
        "from sklearn.metrics import confusion_matrix, classification_report\n",
        "\n",
        "# Prediksi pada data testing\n",
        "y_pred = model.predict(X_test)\n",
        "y_pred_classes = (y_pred > 0.5).astype(\"int32\")\n",
        "\n",
        "# Confusion Matrix\n",
        "conf_matrix = confusion_matrix(y_test, y_pred_classes)\n",
        "\n",
        "# Visualisasi Confusion Matrix\n",
        "plt.figure(figsize=(8, 6))\n",
        "sns.heatmap(conf_matrix, annot=True, fmt='d', cmap='Blues')\n",
        "plt.xlabel('Predicted')\n",
        "plt.ylabel('Actual')\n",
        "plt.title('Confusion Matrix')\n",
        "plt.show()\n",
        "\n",
        "# Classification Report\n",
        "print(classification_report(y_test, y_pred_classes))"
      ],
      "metadata": {
        "colab": {
          "base_uri": "https://localhost:8080/",
          "height": 738
        },
        "id": "zwo37LzpPWBH",
        "outputId": "5a4c386b-2909-4c38-f75f-a29ddf61a187"
      },
      "execution_count": null,
      "outputs": [
        {
          "output_type": "stream",
          "name": "stdout",
          "text": [
            "207/207 [==============================] - 2s 8ms/step\n"
          ]
        },
        {
          "output_type": "display_data",
          "data": {
            "text/plain": [
              "<Figure size 800x600 with 2 Axes>"
            ],
            "image/png": "[encoded data removed]"
          },
          "metadata": {}
        },
        {
          "output_type": "stream",
          "name": "stdout",
          "text": [
            "              precision    recall  f1-score   support\n",
            "\n",
            "           0       0.87      0.86      0.86      3979\n",
            "           1       0.79      0.80      0.79      2642\n",
            "\n",
            "    accuracy                           0.83      6621\n",
            "   macro avg       0.83      0.83      0.83      6621\n",
            "weighted avg       0.83      0.83      0.83      6621\n",
            "\n"
          ]
        }
      ]
    },
    {
      "cell_type": "code",
      "source": [
        "y_test.value_counts()"
      ],
      "metadata": {
        "colab": {
          "base_uri": "https://localhost:8080/"
        },
        "id": "KRxdpLtzcu0a",
        "outputId": "21b04d4b-ded9-4075-e10c-9c1ba91526e1"
      },
      "execution_count": null,
      "outputs": [
        {
          "output_type": "execute_result",
          "data": {
            "text/plain": [
              "stroke\n",
              "0    3979\n",
              "1    2642\n",
              "Name: count, dtype: int64"
            ]
          },
          "metadata": {},
          "execution_count": 29
        }
      ]
    },
    {
      "cell_type": "code",
      "source": [
        "# Menyimpan model neural network\n",
        "model.save(\"/content/STROKE tanpa norm.h5\")"
      ],
      "metadata": {
        "colab": {
          "base_uri": "https://localhost:8080/"
        },
        "id": "TA_Sj9pmLDd2",
        "outputId": "66398292-e0b3-41ff-8a35-ac764983b09b"
      },
      "execution_count": null,
      "outputs": [
        {
          "output_type": "stream",
          "name": "stderr",
          "text": [
            "/usr/local/lib/python3.10/dist-packages/keras/src/engine/training.py:3103: UserWarning: You are saving your model as an HDF5 file via `model.save()`. This file format is considered legacy. We recommend using instead the native Keras format, e.g. `model.save('my_model.keras')`.\n",
            "  saving_api.save_model(\n"
          ]
        }
      ]
    },
    {
      "cell_type": "code",
      "source": [
        "from tensorflow.keras.models import load_model\n",
        "model = tf.keras.models.load_model(\"/content/STROKE tanpa norm.h5\")"
      ],
      "metadata": {
        "id": "LrIgxshO1LBs"
      },
      "execution_count": null,
      "outputs": []
    },
    {
      "cell_type": "code",
      "source": [
        "# Data dummy\n",
        "data_dummy = {\n",
        "    'age': [5],\n",
        "    'avg_glucose_level': [0],\n",
        "    'bmi': [0],\n",
        "    'hypertension': [0],\n",
        "    'heart_disease': [0],\n",
        "    'smoking_status': [0]\n",
        "}\n",
        "\n",
        "# Buat DataFrame langsung dari data dummy\n",
        "new_df = pd.DataFrame(data_dummy)\n",
        "\n",
        "# Prediksi dengan model\n",
        "predictions = model.predict(new_df)\n",
        "\n",
        "# Output hasil prediksi\n",
        "print(\"Prediksi probabilitas Stroke:\", predictions)\n",
        "\n",
        "# Konversi probabilitas menjadi kelas biner\n",
        "predicted_classes = (predictions > 0.5).astype(\"int32\")\n",
        "print(\"Prediksi kelas Stroke (1: Ya, 0: Tidak):\", predicted_classes)"
      ],
      "metadata": {
        "colab": {
          "base_uri": "https://localhost:8080/"
        },
        "id": "f3gqKX78ko47",
        "outputId": "fb56258c-d8de-464a-9ca8-3904a4c34274"
      },
      "execution_count": null,
      "outputs": [
        {
          "output_type": "stream",
          "name": "stdout",
          "text": [
            "1/1 [==============================] - 0s 115ms/step\n",
            "Prediksi probabilitas Stroke: [[6.533577e-27]]\n",
            "Prediksi kelas Stroke (1: Ya, 0: Tidak): [[0]]\n"
          ]
        }
      ]
    }
  ]
}